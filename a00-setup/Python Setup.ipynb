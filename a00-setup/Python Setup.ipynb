{
 "cells": [
  {
   "cell_type": "markdown",
   "metadata": {},
   "source": [
    "# Assignment 0: Python Setup"
   ]
  },
  {
   "cell_type": "markdown",
   "metadata": {},
   "source": [
    "(1) Download and install Anaconda (Python3) on your computer. (If you are more comfortable with installing Python pacakges by yourself with pip, you can do that instead)."
   ]
  },
  {
   "cell_type": "markdown",
   "metadata": {},
   "source": [
    "(2) Make sure you can run a Jupyter notebook and create a new notebook."
   ]
  },
  {
   "cell_type": "markdown",
   "metadata": {},
   "source": [
    "(3) Write a simple \"Hello world!\" print command in your new notebook.\n"
   ]
  },
  {
   "cell_type": "code",
   "execution_count": 1,
   "metadata": {},
   "outputs": [
    {
     "name": "stdout",
     "output_type": "stream",
     "text": [
      "Hello world!\n"
     ]
    }
   ],
   "source": [
    "print('Hello world!')"
   ]
  },
  {
   "cell_type": "markdown",
   "metadata": {},
   "source": [
    "(4) Make sure that you can import Numpy and Matplotlib libraries."
   ]
  },
  {
   "cell_type": "code",
   "execution_count": 3,
   "metadata": {},
   "outputs": [],
   "source": [
    "import numpy as np"
   ]
  },
  {
   "cell_type": "code",
   "execution_count": 4,
   "metadata": {},
   "outputs": [],
   "source": [
    "import matplotlib.pyplot as plt"
   ]
  },
  {
   "cell_type": "markdown",
   "metadata": {},
   "source": [
    "These libraries should already be installed with Anaconda. If they are not, then you will get an error message. If you get the error message, you will have to either re-install Anaconda, or install the libraries manually from the commandline using conda or pip (e.g., conda install matplotlib or pip install matplotlib)."
   ]
  },
  {
   "cell_type": "markdown",
   "metadata": {},
   "source": [
    "(5) We will be learning to program from scratch. I would highly recommend that you read the following tutorials and run as much of the code as possible. We will be going through many of these basic concepts over the first few weeks of the course. \n",
    "\n",
    "    - https://docs.python.org/3.7/tutorial/introduction.html\n",
    "    \n",
    "    - https://docs.python.org/3.7/tutorial/controlflow.html"
   ]
  },
  {
   "cell_type": "markdown",
   "metadata": {},
   "source": [
    "(6) All of the homeworks in this class will involve turning in a Jupyter Notebook like this one. This will be our first one, so let's practice. Rename your notebook as this: \"a00_lastname_firstname\" and submit to Canvas in the Python Setup assignment section."
   ]
  }
 ],
 "metadata": {
  "kernelspec": {
   "display_name": "Python 3",
   "language": "python",
   "name": "python3"
  },
  "language_info": {
   "codemirror_mode": {
    "name": "ipython",
    "version": 3
   },
   "file_extension": ".py",
   "mimetype": "text/x-python",
   "name": "python",
   "nbconvert_exporter": "python",
   "pygments_lexer": "ipython3",
   "version": "3.8.5"
  }
 },
 "nbformat": 4,
 "nbformat_minor": 4
}
