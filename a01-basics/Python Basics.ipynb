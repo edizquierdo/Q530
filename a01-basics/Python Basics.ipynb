{
 "cells": [
  {
   "cell_type": "markdown",
   "metadata": {},
   "source": [
    "# Assignment 1: Python Basics"
   ]
  },
  {
   "cell_type": "markdown",
   "metadata": {},
   "source": [
    "This course requires a good understanding of programming. It also requires some understanding of linear algebra, probability, and basic statistics. This assignment lets you assess your basis for this course. The assignment will also help you refresh your knowledge of the basics of programming, including variables, expressions, conditionals, functions, iteration, lists, strings, file i/o, and object-oriented programming. If you struggle with the following questions (the questions are supposed to be relatively trivial), you may need to put lots of efforts throughout your course. Of course we will do our best to help you."
   ]
  },
  {
   "cell_type": "markdown",
   "metadata": {},
   "source": [
    "# "
   ]
  }
 ],
 "metadata": {
  "kernelspec": {
   "display_name": "Python 3",
   "language": "python",
   "name": "python3"
  },
  "language_info": {
   "codemirror_mode": {
    "name": "ipython",
    "version": 3
   },
   "file_extension": ".py",
   "mimetype": "text/x-python",
   "name": "python",
   "nbconvert_exporter": "python",
   "pygments_lexer": "ipython3",
   "version": "3.8.5"
  }
 },
 "nbformat": 4,
 "nbformat_minor": 4
}
