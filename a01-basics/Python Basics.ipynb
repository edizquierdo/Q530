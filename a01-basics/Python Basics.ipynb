{
 "cells": [
  {
   "cell_type": "markdown",
   "metadata": {},
   "source": [
    "# Assignment 1: Python Basics"
   ]
  },
  {
   "cell_type": "markdown",
   "metadata": {},
   "source": [
    "This course requires a good understanding of programming. It also requires some understanding of linear algebra, probability, and basic statistics. This assignment lets you assess your basis for this course. The assignment will also help you refresh your knowledge of the basics of programming, including variables, expressions, conditionals, functions, iteration, lists, strings, file i/o, and object-oriented programming. If you struggle with the following questions (the questions are supposed to be relatively trivial), you may need to put lots of efforts throughout your course. Of course we will do our best to help you."
   ]
  },
  {
   "cell_type": "markdown",
   "metadata": {},
   "source": [
    "(1) Use Python as a Calculator. Demonstrate the use of each of the following operators: + (addition), - (substration), * (multiplication), / (division), % (remainder), // (integer division), and ** (power). "
   ]
  },
  {
   "cell_type": "markdown",
   "metadata": {},
   "source": [
    "(2) Create five different variables. Assign different types of values to each. Assign an integer value the first, a string to the second, a Boolean to the third, a floating point value to the fourth, and a list of floating point values to the last one. "
   ]
  },
  {
   "cell_type": "markdown",
   "metadata": {},
   "source": [
    "(3) Use the previously created variable with a string assigned to it and access the first letter of the string (this is called indexing), also the last letter of the string. Do the same for the variable with the list."
   ]
  },
  {
   "cell_type": "markdown",
   "metadata": {},
   "source": [
    "(4) Write a few lines of code that can perform a countdown from 10 down to 0 using a while loop. You will be using the print(x) command."
   ]
  },
  {
   "cell_type": "markdown",
   "metadata": {},
   "source": [
    "(5) Ask the user for an integer and then tell the user whether the integer is positive, negative, or zero. For a more advanced option, tell the user whether the number is even or odd. "
   ]
  },
  {
   "cell_type": "markdown",
   "metadata": {},
   "source": [
    "(6) Create a variable with a list of words. Then iterate through the list using a For loop and print only the words of a certain length (e.g,. words greater than 5 letters). For a more advanced option, iterate through the list of words and tell us which of them is the longest word."
   ]
  },
  {
   "cell_type": "markdown",
   "metadata": {},
   "source": [
    "(7) Use the range() function to re-do the countdown code from exercise 4."
   ]
  },
  {
   "cell_type": "markdown",
   "metadata": {},
   "source": [
    "(8) Define a function called countdown() that receives a number n and counts down from n to 0 by printing. "
   ]
  },
  {
   "cell_type": "markdown",
   "metadata": {},
   "source": [
    "(9) Define a function called findlongest() that receives a list of words and returns the length of the longest word in that list."
   ]
  },
  {
   "cell_type": "markdown",
   "metadata": {},
   "source": [
    "(10) In your own words, how would you describe your comfort level in solving each of these exercises from 0 to 10 (where 0 is you actually could not figure them out, 5 is you figured them out with help online, and 10 is you could do this with your eyes closed). In addition to the rating, explain which parts were easier and which parts were harder for you."
   ]
  },
  {
   "cell_type": "markdown",
   "metadata": {},
   "source": [
    "Rename your notebook as this: \"a01_lastname_firstname\" and submit to Canvas in the \"Python Basics\" assignment section."
   ]
  }
 ],
 "metadata": {
  "kernelspec": {
   "display_name": "Python 3",
   "language": "python",
   "name": "python3"
  },
  "language_info": {
   "codemirror_mode": {
    "name": "ipython",
    "version": 3
   },
   "file_extension": ".py",
   "mimetype": "text/x-python",
   "name": "python",
   "nbconvert_exporter": "python",
   "pygments_lexer": "ipython3",
   "version": "3.8.5"
  }
 },
 "nbformat": 4,
 "nbformat_minor": 4
}
